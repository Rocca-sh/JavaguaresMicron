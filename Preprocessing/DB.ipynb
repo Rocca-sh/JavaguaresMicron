{
 "cells": [
  {
   "cell_type": "code",
   "execution_count": 1,
   "id": "3e4a04d3",
   "metadata": {},
   "outputs": [
    {
     "name": "stdout",
     "output_type": "stream",
     "text": [
      "Convertido: Hackaton DB Final_Supply_Demand.csv\n",
      "Convertido: Hackaton DB Final_Density per Wafer.csv\n",
      "Convertido: Hackaton DB Final_Weekly Demand Ratio.csv\n",
      "Convertido: Hackaton DB Final_Wafer Plan.csv\n",
      "Convertido: Hackaton DB Final_Boundary Conditions.csv\n",
      "Convertido: Hackaton DB Final_Yield.csv\n",
      "Convertido: Hackaton DB Final_Definitions.csv\n",
      "Convertido: Hackaton DB Final_Solution and Notes.csv\n"
     ]
    }
   ],
   "source": [
    "# xlsx to csv converter\n",
    "import pandas as pd \n",
    "import os \n",
    "\n",
    "def xlsx_to_csv(filepath, output_folder=None):\n",
    "    # Obtener nombre base del archivo sin extensión\n",
    "    base_name = os.path.splitext(os.path.basename(filepath))[0]\n",
    "    \n",
    "    # Leer el archivo Excel\n",
    "    excel_file = pd.ExcelFile(filepath)\n",
    "\n",
    "    # Carpeta de salida\n",
    "    if output_folder is None:\n",
    "        output_folder = os.path.dirname(filepath)\n",
    "\n",
    "    # Convertir cada hoja en un archivo CSV\n",
    "    for sheet_name in excel_file.sheet_names:\n",
    "        df = excel_file.parse(sheet_name)\n",
    "        output_file = os.path.join(output_folder, f\"{base_name}_{sheet_name}.csv\")\n",
    "        df.to_csv(output_file, index=False)\n",
    "        print(f\"Convertido: {output_file}\")\n",
    "\n",
    "# Ejemplo de uso\n",
    "xlsx_to_csv(\"Hackaton DB Final.xlsx\")  # Cambia por tu archivo si es diferente\n"
   ]
  }
 ],
 "metadata": {
  "kernelspec": {
   "display_name": "Python 3",
   "language": "python",
   "name": "python3"
  },
  "language_info": {
   "codemirror_mode": {
    "name": "ipython",
    "version": 3
   },
   "file_extension": ".py",
   "mimetype": "text/x-python",
   "name": "python",
   "nbconvert_exporter": "python",
   "pygments_lexer": "ipython3",
   "version": "3.9.0"
  }
 },
 "nbformat": 4,
 "nbformat_minor": 5
}
