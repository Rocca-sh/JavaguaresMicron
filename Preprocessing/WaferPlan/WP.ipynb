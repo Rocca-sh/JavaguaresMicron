{
 "cells": [
  {
   "cell_type": "code",
   "execution_count": 1,
   "id": "0941b0a2",
   "metadata": {},
   "outputs": [],
   "source": [
    "import pandas as pd\n",
    "import numpy as np"
   ]
  },
  {
   "cell_type": "code",
   "execution_count": 2,
   "id": "71668f77",
   "metadata": {},
   "outputs": [
    {
     "name": "stdout",
     "output_type": "stream",
     "text": [
      "File 'WaferPlan.csv' loaded successfully using row 1 as header.\n"
     ]
    }
   ],
   "source": [
    "# Load CSV using the second row (index 1) as the header\n",
    "file_path = 'WaferPlan.csv' # Adjust path if necessary\n",
    "try:\n",
    "    # header=1 indicates the row at index 1 in the file is the header\n",
    "    df = pd.read_csv(file_path, header=1)\n",
    "    print(f\"File '{file_path}' loaded successfully using row 1 as header.\")\n",
    "    # print(df.head(3)) # Uncomment to view the first few rows and verify columns\n",
    "except Exception as e:\n",
    "    print(f\"Error loading '{file_path}': {e}\")\n",
    "    df = pd.DataFrame() # Create empty DataFrame if loading fails"
   ]
  },
  {
   "cell_type": "code",
   "execution_count": 3,
   "id": "0cc48de6",
   "metadata": {},
   "outputs": [
    {
     "name": "stdout",
     "output_type": "stream",
     "text": [
      "Shape after removing empty columns: (4, 2)\n"
     ]
    }
   ],
   "source": [
    "# Remove fully empty columns (if any)\n",
    "if not df.empty:\n",
    "    df.dropna(axis=1, how='all', inplace=True)\n",
    "    print(f\"Shape after removing empty columns: {df.shape}\")"
   ]
  },
  {
   "cell_type": "code",
   "execution_count": 4,
   "id": "d9215d85",
   "metadata": {},
   "outputs": [
    {
     "name": "stdout",
     "output_type": "stream",
     "text": [
      "Rows filtered by 'Design Handle'. Shape: (3, 2)\n"
     ]
    }
   ],
   "source": [
    "df_filtered_waferplan = pd.DataFrame() # Initialize empty\n",
    "if not df.empty:\n",
    "    # Use the actual name of the first column found after loading with header=1\n",
    "    id_col = 'Design Handle' # Adjusted based on previous analysis\n",
    "\n",
    "    if id_col in df.columns:\n",
    "        # Filter only by the Product IDs of interest in the first column\n",
    "        condition = df[id_col].isin(['21A', '22B', '23C'])\n",
    "        df_filtered_waferplan = df.loc[condition].copy()\n",
    "        print(f\"Rows filtered by '{id_col}'. Shape: {df_filtered_waferplan.shape}\")\n",
    "        # print(df_filtered_waferplan[[id_col]].head()) # Uncomment to view head\n",
    "    else:\n",
    "        print(f\"Error: ID column '{id_col}' not found. Check file loading.\")"
   ]
  },
  {
   "cell_type": "code",
   "execution_count": 5,
   "id": "450646b2",
   "metadata": {},
   "outputs": [],
   "source": [
    "if not df_filtered_waferplan.empty:\n",
    "    df_filtered_waferplan.drop_duplicates(inplace=True)"
   ]
  },
  {
   "cell_type": "code",
   "execution_count": 6,
   "id": "61a939b0",
   "metadata": {},
   "outputs": [],
   "source": [
    "if not df_filtered_waferplan.empty:\n",
    "    # Clean all column names, including the ID column and week columns\n",
    "    df_filtered_waferplan.columns = df_filtered_waferplan.columns.str.strip().str.replace(\" \", \"_\").str.replace(\".\", \"_\", regex=False).str.replace(\"-\", \"_\")\n",
    "    # print(\"Column names cleaned.\") # Uncomment for confirmation\n",
    "    # print(df_filtered_waferplan.columns[:15].tolist()) # Uncomment to view cleaned names"
   ]
  },
  {
   "cell_type": "code",
   "execution_count": 7,
   "id": "cbda47ce",
   "metadata": {},
   "outputs": [
    {
     "name": "stdout",
     "output_type": "stream",
     "text": [
      "Attempting to convert 1 wafer plan columns to numeric...\n",
      "Warning: 3 NaNs generated during numeric conversion of wafer plan.\n"
     ]
    }
   ],
   "source": [
    "if not df_filtered_waferplan.empty:\n",
    "    # Values start from the SECOND column (index 1)\n",
    "    value_columns = df_filtered_waferplan.columns[1:]\n",
    "    print(f\"Attempting to convert {len(value_columns)} wafer plan columns to numeric...\")\n",
    "    for col in value_columns:\n",
    "        df_filtered_waferplan[col] = pd.to_numeric(df_filtered_waferplan[col], errors='coerce')\n",
    "\n",
    "    nan_count = df_filtered_waferplan[value_columns].isnull().sum().sum()\n",
    "    if nan_count > 0:\n",
    "        print(f\"Warning: {nan_count} NaNs generated during numeric conversion of wafer plan.\")\n",
    "        # Consider filling NaNs if appropriate, e.g., with 0 for zero wafers planned\n",
    "        # Example: df_filtered_waferplan[value_columns] = df_filtered_waferplan[value_columns].fillna(0)\n",
    "    else:\n",
    "        print(\"Numeric conversion completed without NaNs.\")\n",
    "    # print(df_filtered_waferplan.info()) # Uncomment to verify dtypes"
   ]
  },
  {
   "cell_type": "code",
   "execution_count": 8,
   "id": "8c03a06b",
   "metadata": {},
   "outputs": [
    {
     "name": "stdout",
     "output_type": "stream",
     "text": [
      "Wafer Plan DataFrame reshaped to long format. Final shape: (3, 3)\n"
     ]
    }
   ],
   "source": [
    "df_long_waferplan = pd.DataFrame() # Initialize empty\n",
    "if not df_filtered_waferplan.empty:\n",
    "    try:\n",
    "        id_col_clean = df_filtered_waferplan.columns[0] # Cleaned ID col name ('Design_Handle')\n",
    "        value_vars = df_filtered_waferplan.columns[1:] # Value columns start from index 1\n",
    "\n",
    "        # Rename the ID column for the final output\n",
    "        df_to_melt = df_filtered_waferplan.rename(columns={\n",
    "            id_col_clean: 'Product_ID' # Final desired name for the ID column\n",
    "        })\n",
    "\n",
    "        # id_vars should only contain the renamed ID column\n",
    "        df_long_waferplan = pd.melt(\n",
    "            df_to_melt,\n",
    "            id_vars=['Product_ID'],\n",
    "            value_vars=value_vars,\n",
    "            var_name='Week_Original',\n",
    "            value_name='Wafer_Starts' # Name for the wafer start value\n",
    "        )\n",
    "        print(f\"Wafer Plan DataFrame reshaped to long format. Final shape: {df_long_waferplan.shape}\")\n",
    "        # print(df_long_waferplan.head()) # Uncomment to view result\n",
    "    except Exception as e:\n",
    "      print(f\"Error during Wafer Plan melt: {e}\")"
   ]
  },
  {
   "cell_type": "code",
   "execution_count": 9,
   "id": "4f12d3d9",
   "metadata": {},
   "outputs": [
    {
     "name": "stdout",
     "output_type": "stream",
     "text": [
      "Processed Wafer Plan data saved to 'WaferPlan_Long.csv'\n"
     ]
    }
   ],
   "source": [
    "output_file = \"WaferPlan_Long.csv\"\n",
    "if not df_long_waferplan.empty:\n",
    "    df_long_waferplan.to_csv(output_file, index=False)\n",
    "    print(f\"Processed Wafer Plan data saved to '{output_file}'\")\n",
    "else:\n",
    "    print(\"Final Wafer Plan DataFrame is empty, file not saved.\")"
   ]
  }
 ],
 "metadata": {
  "kernelspec": {
   "display_name": "Python 3",
   "language": "python",
   "name": "python3"
  },
  "language_info": {
   "codemirror_mode": {
    "name": "ipython",
    "version": 3
   },
   "file_extension": ".py",
   "mimetype": "text/x-python",
   "name": "python",
   "nbconvert_exporter": "python",
   "pygments_lexer": "ipython3",
   "version": "3.9.0"
  }
 },
 "nbformat": 4,
 "nbformat_minor": 5
}
