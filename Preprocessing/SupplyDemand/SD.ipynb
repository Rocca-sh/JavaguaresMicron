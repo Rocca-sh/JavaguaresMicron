{
 "cells": [
  {
   "cell_type": "code",
   "execution_count": 1,
   "id": "8d6582ff",
   "metadata": {},
   "outputs": [],
   "source": [
    "import pandas as pd\n",
    "import numpy as np"
   ]
  },
  {
   "cell_type": "code",
   "execution_count": 2,
   "id": "10c07cc8",
   "metadata": {},
   "outputs": [
    {
     "name": "stdout",
     "output_type": "stream",
     "text": [
      "File 'SupplyDemand.csv' loaded successfully.\n"
     ]
    }
   ],
   "source": [
    "# Load CSV normally (no header=1 needed based on previous analysis)\n",
    "file_path = 'SupplyDemand.csv' # Adjust path if necessary\n",
    "try:\n",
    "    df = pd.read_csv(file_path)\n",
    "    print(f\"File '{file_path}' loaded successfully.\")\n",
    "    # Verify column names - should be 'Product ID', 'Attribute', 'Q2 95', ...\n",
    "    # print(\"Columns loaded:\", df.columns.tolist())\n",
    "    # print(df.head(3)) # Uncomment to view the first few rows\n",
    "except Exception as e:\n",
    "    print(f\"Error loading '{file_path}': {e}\")\n",
    "    df = pd.DataFrame() # Create empty DataFrame if loading fails"
   ]
  },
  {
   "cell_type": "code",
   "execution_count": 3,
   "id": "d8f8e9a2",
   "metadata": {},
   "outputs": [],
   "source": [
    "# Remove fully empty columns (if any) - less likely needed here\n",
    "if not df.empty:\n",
    "    df.dropna(axis=1, how='all', inplace=True)\n",
    "    # print(f\"Shape after removing empty columns: {df.shape}\")"
   ]
  },
  {
   "cell_type": "code",
   "execution_count": 4,
   "id": "9bfb0a32",
   "metadata": {},
   "outputs": [
    {
     "name": "stdout",
     "output_type": "stream",
     "text": [
      "Rows filtered by Product ID and selected Attributes. Shape: (9, 37)\n"
     ]
    }
   ],
   "source": [
    "df_filtered_sd = pd.DataFrame() # Initialize empty\n",
    "if not df.empty:\n",
    "    # Expected column names from standard load\n",
    "    id_col = 'Product ID'\n",
    "    attr_col = 'Attribute'\n",
    "\n",
    "    # *** Define the attributes needed for the optimization model ***\n",
    "    # Check Definitions.csv or file content for exact names if unsure\n",
    "    attributes_to_keep = [\n",
    "        'EffectiveDemand',\n",
    "        'Safety Stock Target',\n",
    "        # Add the attribute representing initial inventory if available, e.g.:\n",
    "        # 'Seedstock (Initial Inventory)',\n",
    "        # 'On Hand' # (Need to confirm if 'On Hand' at Q2 95 is the initial state)\n",
    "        'Total Projected Inventory Balance' # Keep this to extract initial inventory from the first period?\n",
    "    ]\n",
    "\n",
    "    if id_col in df.columns and attr_col in df.columns:\n",
    "        # Filter for relevant products and attributes\n",
    "        condition = (\n",
    "            df[id_col].isin(['21A', '22B', '23C']) &\n",
    "            df[attr_col].isin(attributes_to_keep)\n",
    "        )\n",
    "        df_filtered_sd = df.loc[condition].copy()\n",
    "        print(f\"Rows filtered by Product ID and selected Attributes. Shape: {df_filtered_sd.shape}\")\n",
    "        # print(df_filtered_sd[[id_col, attr_col]].head()) # Uncomment to view head\n",
    "        # print(\"Unique Attributes kept:\", df_filtered_sd[attr_col].unique()) # Verify filtering\n",
    "    else:\n",
    "        print(f\"Error: Columns '{id_col}' or '{attr_col}' not found. Check file loading.\")"
   ]
  },
  {
   "cell_type": "code",
   "execution_count": 5,
   "id": "4b7c1ed5",
   "metadata": {},
   "outputs": [],
   "source": [
    "if not df_filtered_sd.empty:\n",
    "    df_filtered_sd.drop_duplicates(inplace=True)"
   ]
  },
  {
   "cell_type": "code",
   "execution_count": 6,
   "id": "76312770",
   "metadata": {},
   "outputs": [
    {
     "name": "stdout",
     "output_type": "stream",
     "text": [
      "Column names cleaned.\n",
      "['Product_ID', 'Attribute', 'Q2_95', 'Q3_95', 'Q4_95', 'Q1_96', 'Q2_96', 'Q3_96', 'Q4_96', 'Q1_97', 'Q2_97', 'Q3_97', 'Q4_97', 'Q1_98', 'Q2_98', 'Q3_98', 'Q4_98', 'Q1_99', 'Q2_99', 'Q3_99', 'Q4_99', 'Q1_00', 'Q2_00', 'Q3_00', 'Q4_00', 'Q1_01', 'Q2_01', 'Q3_01', 'Q4_01', 'Q1_02', 'Q2_02', 'Q3_02', 'Q4_02', 'Q1_03', 'Q2_03', 'Q3_03', 'Q4_03']\n"
     ]
    }
   ],
   "source": [
    "if not df_filtered_sd.empty:\n",
    "    df_filtered_sd.columns = df_filtered_sd.columns.str.strip().str.replace(\" \", \"_\").str.replace(\".\", \"_\", regex=False).str.replace(\"-\", \"_\")\n",
    "    print(\"Column names cleaned.\") # Uncomment for confirmation\n",
    "    print(df_filtered_sd.columns.tolist()) # Uncomment to view cleaned names"
   ]
  },
  {
   "cell_type": "code",
   "execution_count": 7,
   "id": "a35f9214",
   "metadata": {},
   "outputs": [
    {
     "name": "stdout",
     "output_type": "stream",
     "text": [
      "Attempting to convert 35 quarterly columns to numeric...\n",
      "Warning: 90 NaNs generated during numeric conversion.\n"
     ]
    }
   ],
   "source": [
    "if not df_filtered_sd.empty:\n",
    "    # Values start from the THIRD column (index 2) onwards\n",
    "    value_columns = df_filtered_sd.columns[2:]\n",
    "    print(f\"Attempting to convert {len(value_columns)} quarterly columns to numeric...\")\n",
    "    for col in value_columns:\n",
    "        # Clean column name before conversion if not done in previous step\n",
    "        clean_col_name = col # Already cleaned in previous cell\n",
    "        df_filtered_sd[clean_col_name] = pd.to_numeric(df_filtered_sd[clean_col_name], errors='coerce')\n",
    "\n",
    "    nan_count = df_filtered_sd[value_columns].isnull().sum().sum()\n",
    "    if nan_count > 0:\n",
    "        print(f\"Warning: {nan_count} NaNs generated during numeric conversion.\")\n",
    "        # Decide how to handle missing Demand/SST (e.g., fill with 0?)\n",
    "        # Example: df_filtered_sd[value_columns] = df_filtered_sd[value_columns].fillna(0)\n",
    "    else:\n",
    "        print(\"Numeric conversion completed without NaNs.\")\n",
    "    # print(df_filtered_sd.info()) # Uncomment to verify dtypes"
   ]
  },
  {
   "cell_type": "code",
   "execution_count": 8,
   "id": "0c048ff3",
   "metadata": {},
   "outputs": [
    {
     "name": "stdout",
     "output_type": "stream",
     "text": [
      "Supply/Demand DataFrame reshaped to long format. Final shape: (315, 4)\n"
     ]
    }
   ],
   "source": [
    "df_long_sd = pd.DataFrame() # Initialize empty\n",
    "if not df_filtered_sd.empty:\n",
    "    try:\n",
    "        # Use cleaned column names\n",
    "        id_col_clean = df_filtered_sd.columns[0]     # e.g., Product_ID\n",
    "        attr_col_clean = df_filtered_sd.columns[1]   # e.g., Attribute\n",
    "        value_vars = df_filtered_sd.columns[2:]      # e.g., Q2_95, Q3_95,...\n",
    "\n",
    "        # Rename identifier columns for final output\n",
    "        df_to_melt = df_filtered_sd.rename(columns={\n",
    "            id_col_clean: 'Product_ID',\n",
    "            attr_col_clean: 'Attribute'\n",
    "        })\n",
    "\n",
    "        df_long_sd = pd.melt(\n",
    "            df_to_melt,\n",
    "            id_vars=['Product_ID', 'Attribute'],\n",
    "            value_vars=value_vars,\n",
    "            var_name='Quarter',       # Name for the column holding original Quarter names\n",
    "            value_name='Value'        # Name for the column holding the corresponding value\n",
    "        )\n",
    "        print(f\"Supply/Demand DataFrame reshaped to long format. Final shape: {df_long_sd.shape}\")\n",
    "        # print(df_long_sd.head()) # Uncomment to view result\n",
    "    except Exception as e:\n",
    "      print(f\"Error during Supply/Demand melt: {e}\")"
   ]
  },
  {
   "cell_type": "code",
   "execution_count": 9,
   "id": "3ea99ff8",
   "metadata": {},
   "outputs": [
    {
     "name": "stdout",
     "output_type": "stream",
     "text": [
      "Processed Supply/Demand data saved to 'SupplyDemand_Long.csv'\n"
     ]
    }
   ],
   "source": [
    "output_file = \"SupplyDemand_Long.csv\"\n",
    "if not df_long_sd.empty:\n",
    "    df_long_sd.to_csv(output_file, index=False)\n",
    "    print(f\"Processed Supply/Demand data saved to '{output_file}'\")\n",
    "else:\n",
    "    print(\"Final Supply/Demand DataFrame is empty, file not saved.\")"
   ]
  }
 ],
 "metadata": {
  "kernelspec": {
   "display_name": "Python 3",
   "language": "python",
   "name": "python3"
  },
  "language_info": {
   "codemirror_mode": {
    "name": "ipython",
    "version": 3
   },
   "file_extension": ".py",
   "mimetype": "text/x-python",
   "name": "python",
   "nbconvert_exporter": "python",
   "pygments_lexer": "ipython3",
   "version": "3.9.0"
  }
 },
 "nbformat": 4,
 "nbformat_minor": 5
}
