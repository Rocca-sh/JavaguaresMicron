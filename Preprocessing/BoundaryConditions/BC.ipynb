{
 "cells": [
  {
   "cell_type": "code",
   "execution_count": 1,
   "id": "90bbb962",
   "metadata": {},
   "outputs": [],
   "source": [
    "import pandas as pd\n",
    "import numpy as np"
   ]
  },
  {
   "cell_type": "code",
   "execution_count": 2,
   "id": "e6f38c31",
   "metadata": {},
   "outputs": [
    {
     "name": "stdout",
     "output_type": "stream",
     "text": [
      "Archivo 'BoundaryConditions.csv' correctly load.\n"
     ]
    }
   ],
   "source": [
    "# Load the CSV file with boundary conditions \n",
    "file_path = 'BoundaryConditions.csv' \n",
    "try:\n",
    "    df = pd.read_csv(file_path, header=1)\n",
    "    print(f\"Archivo '{file_path}' correctly load.\")\n",
    "except Exception as e:\n",
    "    print(f\"Error al cargar '{file_path}': {e}\")\n",
    "    df = pd.DataFrame() "
   ]
  },
  {
   "cell_type": "code",
   "execution_count": 3,
   "id": "d0634996",
   "metadata": {},
   "outputs": [
    {
     "name": "stdout",
     "output_type": "stream",
     "text": [
      "Files filtered by 'Available Capacity'. Shape: (4, 445)\n"
     ]
    }
   ],
   "source": [
    "df_filtered = pd.DataFrame() \n",
    "if not df.empty:\n",
    "    id_col = 'Product ID'  \n",
    "    attr_col = 'Attribute' \n",
    "    if id_col in df.columns and attr_col in df.columns:\n",
    "        condition = (\n",
    "            df[id_col].isin(['Total', '21A', '22B', '23C']) &\n",
    "            (df[attr_col] == 'Available Capacity')\n",
    "        )\n",
    "        df_filtered = df.loc[condition].copy()\n",
    "        print(f\"Files filtered by 'Available Capacity'. Shape: {df_filtered.shape}\")\n",
    "    else:\n",
    "        print(f\"Error: Columns weren't find '{id_col}' o '{attr_col}'. Verify the load.\")"
   ]
  },
  {
   "cell_type": "code",
   "execution_count": 4,
   "id": "9086e7c8",
   "metadata": {},
   "outputs": [],
   "source": [
    "if not df_filtered.empty:\n",
    "    df_filtered.drop_duplicates(inplace=True)"
   ]
  },
  {
   "cell_type": "code",
   "execution_count": 5,
   "id": "b9ea2989",
   "metadata": {},
   "outputs": [],
   "source": [
    "if not df_filtered.empty:\n",
    "    value_columns = df_filtered.columns[2:]\n",
    "    for col in value_columns:\n",
    "        df_filtered[col] = pd.to_numeric(df_filtered[col], errors='coerce')\n",
    "\n",
    "    nan_count = df_filtered[value_columns].isnull().sum().sum()\n",
    "    if nan_count > 0:\n",
    "        print(f\"Alerta: {nan_count} NaNs generados durante conversión numérica.\")\n",
    "        # Consider fill the Nans values, ej:\n",
    "        # df_filtered[value_columns] = df_filtered[value_columns].fillna(0)"
   ]
  },
  {
   "cell_type": "code",
   "execution_count": 6,
   "id": "6d2cf679",
   "metadata": {},
   "outputs": [
    {
     "name": "stdout",
     "output_type": "stream",
     "text": [
      "Restructured Dataframe to long shape. Final form: (1772, 4)\n"
     ]
    }
   ],
   "source": [
    "df_long_capacity = pd.DataFrame() \n",
    "if not df_filtered.empty:\n",
    "    try:\n",
    "        id_col_name = df_filtered.columns[0]\n",
    "        attr_col_name = df_filtered.columns[1]\n",
    "        value_vars = df_filtered.columns[2:] \n",
    "\n",
    "        df_to_melt = df_filtered.rename(columns={\n",
    "            id_col_name: 'Product_ID',\n",
    "            attr_col_name: 'Constraint_Type'\n",
    "        })\n",
    "\n",
    "        df_long_capacity = pd.melt(\n",
    "            df_to_melt,\n",
    "            id_vars=['Product_ID', 'Constraint_Type'],\n",
    "            value_vars=value_vars,\n",
    "            var_name='Week_Original',    \n",
    "            value_name='Capacity_Value'\n",
    "        )\n",
    "        print(f\"Restructured Dataframe to long shape. Final form: {df_long_capacity.shape}\")\n",
    "    except Exception as e:\n",
    "        print(f\"Error durante el melt: {e}\")"
   ]
  },
  {
   "cell_type": "code",
   "execution_count": 7,
   "id": "34a25e5a",
   "metadata": {},
   "outputs": [
    {
     "name": "stdout",
     "output_type": "stream",
     "text": [
      "\n",
      "--- DataFrame head processed ---\n",
      "  Product_ID     Constraint_Type Week_Original  Capacity_Value\n",
      "0      Total  Available Capacity         WW_09         11037.0\n",
      "1        21A  Available Capacity         WW_09          5155.0\n",
      "2        22B  Available Capacity         WW_09          4000.0\n",
      "3        23C  Available Capacity         WW_09          1882.0\n",
      "4      Total  Available Capacity         WW_10         10791.0\n",
      "\n",
      "--- DataFrame Tail processed ---\n",
      "     Product_ID     Constraint_Type Week_Original  Capacity_Value\n",
      "1767        23C  Available Capacity       WW_34.8           500.0\n",
      "1768      Total  Available Capacity       WW_35.8          8000.0\n",
      "1769        21A  Available Capacity       WW_35.8          5000.0\n",
      "1770        22B  Available Capacity       WW_35.8          2500.0\n",
      "1771        23C  Available Capacity       WW_35.8           500.0\n",
      "<class 'pandas.core.frame.DataFrame'>\n",
      "RangeIndex: 1772 entries, 0 to 1771\n",
      "Data columns (total 4 columns):\n",
      " #   Column           Non-Null Count  Dtype  \n",
      "---  ------           --------------  -----  \n",
      " 0   Product_ID       1772 non-null   object \n",
      " 1   Constraint_Type  1772 non-null   object \n",
      " 2   Week_Original    1772 non-null   object \n",
      " 3   Capacity_Value   1772 non-null   float64\n",
      "dtypes: float64(1), object(3)\n",
      "memory usage: 55.5+ KB\n",
      "None\n"
     ]
    }
   ],
   "source": [
    "if not df_long_capacity.empty:\n",
    "    print(\"\\n--- DataFrame head processed ---\")\n",
    "    print(df_long_capacity.head())\n",
    "    print(\"\\n--- DataFrame Tail processed ---\")\n",
    "    print(df_long_capacity.tail())\n",
    "    print(df_long_capacity.info()) "
   ]
  },
  {
   "cell_type": "code",
   "execution_count": 8,
   "id": "7b7747a9",
   "metadata": {},
   "outputs": [
    {
     "name": "stdout",
     "output_type": "stream",
     "text": [
      "Data saved in 'BoundaryConditions_AvailableCapacity_Long.csv'\n"
     ]
    }
   ],
   "source": [
    "output_file = \"BoundaryConditions_AvailableCapacity_Long.csv\"\n",
    "if not df_long_capacity.empty:\n",
    "    df_long_capacity.to_csv(output_file, index=False)\n",
    "    print(f\"Data saved in '{output_file}'\")\n",
    "else:\n",
    "    print(\"El DataFrame final está vacío, no se guardó ningún archivo.\")"
   ]
  }
 ],
 "metadata": {
  "kernelspec": {
   "display_name": "Python 3",
   "language": "python",
   "name": "python3"
  },
  "language_info": {
   "codemirror_mode": {
    "name": "ipython",
    "version": 3
   },
   "file_extension": ".py",
   "mimetype": "text/x-python",
   "name": "python",
   "nbconvert_exporter": "python",
   "pygments_lexer": "ipython3",
   "version": "3.9.0"
  }
 },
 "nbformat": 4,
 "nbformat_minor": 5
}
