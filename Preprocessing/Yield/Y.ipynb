{
 "cells": [
  {
   "cell_type": "code",
   "execution_count": 1,
   "id": "d53881f1",
   "metadata": {},
   "outputs": [],
   "source": [
    "import pandas as pd\n",
    "import numpy as np"
   ]
  },
  {
   "cell_type": "code",
   "execution_count": 2,
   "id": "a194a449",
   "metadata": {},
   "outputs": [
    {
     "name": "stdout",
     "output_type": "stream",
     "text": [
      "File 'Yield.csv' loaded successfully.\n"
     ]
    }
   ],
   "source": [
    "file_path = 'Yield.csv' # Adjust path if necessary\n",
    "try:\n",
    "    df = pd.read_csv(file_path, header=1)\n",
    "    print(f\"File '{file_path}' loaded successfully.\")\n",
    "    # print(df.head(3)) # Uncomment to view the first few rows\n",
    "except Exception as e:\n",
    "    print(f\"Error loading '{file_path}': {e}\")\n",
    "    df = pd.DataFrame() # Create empty DataFrame if loading fails"
   ]
  },
  {
   "cell_type": "code",
   "execution_count": 3,
   "id": "366323bc",
   "metadata": {},
   "outputs": [
    {
     "name": "stdout",
     "output_type": "stream",
     "text": [
      "Shape after removing empty columns: (3, 445)\n"
     ]
    }
   ],
   "source": [
    "# Remove fully empty columns (if any)\n",
    "df.dropna(axis=1, how='all', inplace=True)\n",
    "print(f\"Shape after removing empty columns: {df.shape}\")\n",
    "# Note: Constant value columns are less likely in yield data"
   ]
  },
  {
   "cell_type": "code",
   "execution_count": 4,
   "id": "1aeb83de",
   "metadata": {},
   "outputs": [
    {
     "name": "stdout",
     "output_type": "stream",
     "text": [
      "Rows filtered by Product ID. Shape: (3, 445)\n"
     ]
    }
   ],
   "source": [
    "df_filtered_yield = pd.DataFrame() # Initialize empty\n",
    "if not df.empty:\n",
    "    # Assume the first column is Product ID after loading with header=1\n",
    "    id_col = df.columns[0]\n",
    "    # Assume the second column identifies the attribute as 'Yield' (may not be needed for filtering)\n",
    "    # attr_col = df.columns[1] \n",
    "\n",
    "    if id_col in df.columns:\n",
    "        # Filter only for the Product IDs of interest\n",
    "        condition = df[id_col].isin(['21A', '22B', '23C'])\n",
    "        df_filtered_yield = df.loc[condition].copy()\n",
    "        print(f\"Rows filtered by Product ID. Shape: {df_filtered_yield.shape}\")\n",
    "        # print(df_filtered_yield[[id_col]].head()) # Uncomment to view head\n",
    "    else:\n",
    "        print(f\"Error: ID column '{id_col}' not found. Check file loading.\")"
   ]
  },
  {
   "cell_type": "code",
   "execution_count": 5,
   "id": "aac936ba",
   "metadata": {},
   "outputs": [],
   "source": [
    "if not df_filtered_yield.empty:\n",
    "    df_filtered_yield.drop_duplicates(inplace=True)"
   ]
  },
  {
   "cell_type": "code",
   "execution_count": 6,
   "id": "095c8358",
   "metadata": {},
   "outputs": [],
   "source": [
    "if not df_filtered_yield.empty:\n",
    "    df_filtered_yield.columns = df_filtered_yield.columns.str.strip().str.replace(\" \", \"_\").str.replace(\".\", \"_\", regex=False).str.replace(\"-\", \"_\")\n",
    "    # print(\"Column names cleaned.\") # Uncomment for confirmation"
   ]
  },
  {
   "cell_type": "code",
   "execution_count": 7,
   "id": "2d8bde87",
   "metadata": {},
   "outputs": [
    {
     "name": "stdout",
     "output_type": "stream",
     "text": [
      "Attempting to convert 443 yield columns to numeric...\n",
      "Numeric conversion completed without NaNs.\n"
     ]
    }
   ],
   "source": [
    "if not df_filtered_yield.empty:\n",
    "    # Assume first 2 columns are identifiers (ID, Attribute='Yield')\n",
    "    value_columns = df_filtered_yield.columns[2:]\n",
    "    print(f\"Attempting to convert {len(value_columns)} yield columns to numeric...\")\n",
    "    for col in value_columns:\n",
    "        df_filtered_yield[col] = pd.to_numeric(df_filtered_yield[col], errors='coerce')\n",
    "\n",
    "    nan_count = df_filtered_yield[value_columns].isnull().sum().sum()\n",
    "    if nan_count > 0:\n",
    "        print(f\"Warning: {nan_count} NaNs generated during yield numeric conversion.\")\n",
    "        # Missing yield is problematic. Consider appropriate fill strategy (e.g., forward fill)\n",
    "        # Example: df_filtered_yield[value_columns] = df_filtered_yield[value_columns].fillna(method='ffill', axis=1)\n",
    "    else:\n",
    "        print(\"Numeric conversion completed without NaNs.\")\n",
    "    # print(df_filtered_yield.info()) # Uncomment to verify dtypes"
   ]
  },
  {
   "cell_type": "code",
   "execution_count": 8,
   "id": "829d277d",
   "metadata": {},
   "outputs": [
    {
     "name": "stdout",
     "output_type": "stream",
     "text": [
      "Yield DataFrame reshaped to long format. Final shape: (1329, 3)\n"
     ]
    }
   ],
   "source": [
    "df_long_yield = pd.DataFrame() # Initialize empty\n",
    "if not df_filtered_yield.empty:\n",
    "    try:\n",
    "        id_col_clean = df_filtered_yield.columns[0] # Cleaned ID col name\n",
    "        # Second column ('Attribute'='Yield') might not be needed in long format\n",
    "        value_vars = df_filtered_yield.columns[2:] # Value columns\n",
    "\n",
    "        # Rename ID column for the final output\n",
    "        df_to_melt = df_filtered_yield.rename(columns={\n",
    "            id_col_clean: 'Product_ID'\n",
    "        })\n",
    "\n",
    "        # Select only necessary columns for melt (ID and values)\n",
    "        cols_for_melt = ['Product_ID'] + list(value_vars)\n",
    "\n",
    "        df_long_yield = pd.melt(\n",
    "            df_to_melt[cols_for_melt], # Use selected columns\n",
    "            id_vars=['Product_ID'],\n",
    "            value_vars=value_vars,\n",
    "            var_name='Week_Original',\n",
    "            value_name='Yield_Value' # Name for the yield value\n",
    "        )\n",
    "        print(f\"Yield DataFrame reshaped to long format. Final shape: {df_long_yield.shape}\")\n",
    "        # print(df_long_yield.head()) # Uncomment to view result\n",
    "    except Exception as e:\n",
    "      print(f\"Error during Yield melt: {e}\")"
   ]
  },
  {
   "cell_type": "code",
   "execution_count": 9,
   "id": "7f305fc8",
   "metadata": {},
   "outputs": [
    {
     "name": "stdout",
     "output_type": "stream",
     "text": [
      "Processed Yield data saved to 'Yield_Long.csv'\n"
     ]
    }
   ],
   "source": [
    "output_file = \"Yield_Long.csv\"\n",
    "if not df_long_yield.empty:\n",
    "    df_long_yield.to_csv(output_file, index=False)\n",
    "    print(f\"Processed Yield data saved to '{output_file}'\")\n",
    "else:\n",
    "    print(\"Final Yield DataFrame is empty, file not saved.\")"
   ]
  }
 ],
 "metadata": {
  "kernelspec": {
   "display_name": "Python 3",
   "language": "python",
   "name": "python3"
  },
  "language_info": {
   "codemirror_mode": {
    "name": "ipython",
    "version": 3
   },
   "file_extension": ".py",
   "mimetype": "text/x-python",
   "name": "python",
   "nbconvert_exporter": "python",
   "pygments_lexer": "ipython3",
   "version": "3.9.0"
  }
 },
 "nbformat": 4,
 "nbformat_minor": 5
}
