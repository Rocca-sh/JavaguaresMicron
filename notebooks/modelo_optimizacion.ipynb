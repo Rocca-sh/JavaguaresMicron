{
 "cells": [
  {
   "cell_type": "markdown",
   "id": "95151720",
   "metadata": {},
   "source": [
    "# 📘 Modelo de Optimización de Producción de Wafers\n",
    "**Hackathon Talent Land - Micron | Abril 2025**\n",
    "\n",
    "Este notebook presenta la formulación matemática completa del modelo de programación lineal (PL) para optimizar la planificación de producción de wafers cumpliendo con restricciones de inventario, demanda, capacidad y prioridad."
   ]
  },
  {
   "cell_type": "markdown",
   "id": "21fe2348",
   "metadata": {},
   "source": [
    "## 🔢 Variables de Decisión\n",
    "\n",
    "- $x_{i,t} \\in \\mathbb{Z}_+$: Producción del producto `i` en la semana `t`.\n",
    "- $S_{i,t} \\in \\mathbb{R}_+$: Inventario final del producto `i` al final de la semana `t`.\n",
    "\n",
    "Donde:\n",
    "- $i \\in \\{21A, 22B, 23C\\}$\n",
    "- $t \\in \\{1, 2, ..., T\\}$"
   ]
  },
  {
   "cell_type": "markdown",
   "id": "69d51753",
   "metadata": {},
   "source": [
    "## 🎯 Función Objetivo\n",
    "\n",
    "Minimizar los costos totales de producción y almacenamiento:\n",
    "\n",
    "\\[ \\min \\sum_{i} \\sum_{t} \\left( C_{i,t} \\cdot x_{i,t} + H_{i,t} \\cdot S_{i,t} \\right) \\]"
   ]
  },
  {
   "cell_type": "markdown",
   "id": "2153e664",
   "metadata": {},
   "source": [
    "## 📏 Restricciones\n",
    "\n",
    "### 1. Balance de Inventario\n",
    "\\[ S_{i,t} = \\begin{cases} S_{i,0} + x_{i,1} - D_{i,1}, & t = 1 \\\\ S_{i,t-1} + x_{i,t} - D_{i,t}, & t > 1 \\end{cases} \\]\n",
    "\n",
    "### 2. Producción mínima total semanal\n",
    "\\[ \\sum_{i} x_{i,t} \\geq 350, \\quad \\forall t \\]\n",
    "\n",
    "### 3. Ramp-up máximo\n",
    "\\[ x_{i,t} - x_{i,t-1} \\leq 560, \\quad \\forall i, t > 1 \\]\n",
    "\n",
    "### 4. Producción congelada\n",
    "\\[ x_{i,t} = \\bar{x}_{i,t}, \\quad \\forall i, t \\in T_{\\text{congelado}} \\]\n",
    "\n",
    "### 5. Producción en múltiplos de 5\n",
    "\\[ x_{i,t} = 5 \\cdot z_{i,t}, \\quad z_{i,t} \\in \\mathbb{Z}_+ \\]\n",
    "\n",
    "### 6. Prioridad de demanda\n",
    "\\[ x_{21A,t} \\geq D_{21A,t} \\]\n",
    "\\[ x_{22B,t} + \\text{Exceso}_{21A,t} \\geq D_{22B,t} \\]\n",
    "\\[ x_{23C,t} + \\text{Exceso}_{22B,t} \\geq D_{23C,t} \\]\n",
    "\n",
    "### 7. Inventario mínimo\n",
    "\\[ S_{i,t} \\geq SST_i, \\quad \\forall i, t \\]\n",
    "\n",
    "### 8. Rango de inventario excedente trimestral\n",
    "\\[ 70M \\leq \\sum_{i} \\sum_{t \\in Q} (S_{i,t} - SST_i) \\leq 140M \\]"
   ]
  },
  {
   "cell_type": "code",
   "execution_count": null,
   "id": "2c4942f0",
   "metadata": {},
   "outputs": [],
   "source": [
    "# Cargar datos desde archivo Excel\n",
    "import pandas as pd\n",
    "\n",
    "file_path = \"../data/Hackaton DB Final 04.21.xlsx\"\n",
    "demand_df = pd.read_excel(file_path, sheet_name=\"Demand\")\n",
    "inventory_df = pd.read_excel(file_path, sheet_name=\"Inventory\")\n",
    "yield_df = pd.read_excel(file_path, sheet_name=\"Yield\")\n",
    "\n",
    "demand_df.head()"
   ]
  },
  {
   "cell_type": "code",
   "execution_count": null,
   "id": "e30797fb",
   "metadata": {},
   "outputs": [],
   "source": [
    "# Visualizar demanda por producto\n",
    "import matplotlib.pyplot as plt\n",
    "\n",
    "for product in demand_df[\"Product\"].unique():\n",
    "    df = demand_df[demand_df[\"Product\"] == product]\n",
    "    plt.plot(df[\"Week\"], df[\"Demand\"], label=f\"Demand {product}\")\n",
    "\n",
    "plt.legend()\n",
    "plt.title(\"Demanda por producto\")\n",
    "plt.xlabel(\"Semana\")\n",
    "plt.ylabel(\"Demanda\")\n",
    "plt.grid(True)\n",
    "plt.show()"
   ]
  },
  {
   "cell_type": "markdown",
   "id": "c22b9cd9",
   "metadata": {},
   "source": [
    "## ⚙️ Definición del Modelo con PuLP"
   ]
  },
  {
   "cell_type": "code",
   "execution_count": null,
   "id": "096134ff",
   "metadata": {},
   "outputs": [],
   "source": [
    "from pulp import *\n",
    "\n",
    "# Productos y semanas de ejemplo (pueden ser reemplazados por lectura dinámica)\n",
    "products = ['21A', '22B', '23C']\n",
    "weeks = list(range(1, 14))  # 13 semanas\n",
    "\n",
    "# Parámetros ficticios para pruebas (reemplazar con datos reales)\n",
    "demand = {(p, w): 100 for p in products for w in weeks}\n",
    "initial_inventory = {p: 50 for p in products}\n",
    "sst = {p: 40 for p in products}\n",
    "max_ramp_up = 560\n",
    "\n",
    "# Modelo\n",
    "model = LpProblem(\"Wafer_Production_Optimization\", LpMinimize)\n",
    "\n",
    "# Variables de decisión\n",
    "x = LpVariable.dicts(\"Production\", (products, weeks), lowBound=0, cat='Integer')\n",
    "s = LpVariable.dicts(\"Inventory\", (products, weeks), lowBound=0)\n",
    "\n",
    "# Objetivo (sin costos reales, solo como ejemplo)\n",
    "model += lpSum(x[i][t] + 0.1 * s[i][t] for i in products for t in weeks)\n",
    "\n",
    "# Restricciones de balance de inventario\n",
    "for i in products:\n",
    "    for t in weeks:\n",
    "        if t == 1:\n",
    "            model += s[i][t] == initial_inventory[i] + x[i][t] - demand[(i, t)]\n",
    "        else:\n",
    "            model += s[i][t] == s[i][t-1] + x[i][t] - demand[(i, t)]\n",
    "\n",
    "# SST mínima\n",
    "for i in products:\n",
    "    for t in weeks:\n",
    "        model += s[i][t] >= sst[i]\n",
    "\n",
    "# Ramp-up\n",
    "for i in products:\n",
    "    for t in weeks[1:]:\n",
    "        model += x[i][t] - x[i][t-1] <= max_ramp_up\n",
    "\n",
    "# Producción total mínima por semana\n",
    "for t in weeks:\n",
    "    model += lpSum(x[i][t] for i in products) >= 350\n"
   ]
  },
  {
   "cell_type": "markdown",
   "id": "0c270747",
   "metadata": {},
   "source": [
    "## 🚀 Resolución del Modelo y Resultados"
   ]
  },
  {
   "cell_type": "code",
   "execution_count": null,
   "id": "53615675",
   "metadata": {},
   "outputs": [],
   "source": [
    "# Resolver\n",
    "model.solve()\n",
    "\n",
    "# Mostrar producción e inventario resultantes\n",
    "for i in products:\n",
    "    print(f\"Producto {i}\")\n",
    "    for t in weeks:\n",
    "        print(f\"  Semana {t}: Producción = {x[i][t].varValue}, Inventario = {s[i][t].varValue}\")\n"
   ]
  }
 ],
 "metadata": {
  "kernelspec": {
   "display_name": "Python 3",
   "language": "python",
   "name": "python3"
  },
  "language_info": {
   "name": "python",
   "version": "3.x"
  }
 },
 "nbformat": 4,
 "nbformat_minor": 5
}
